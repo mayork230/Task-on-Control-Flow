{
  "nbformat": 4,
  "nbformat_minor": 0,
  "metadata": {
    "colab": {
      "provenance": []
    },
    "kernelspec": {
      "name": "python3",
      "display_name": "Python 3"
    },
    "language_info": {
      "name": "python"
    }
  },
  "cells": [
    {
      "cell_type": "markdown",
      "source": [
        "# Task 1: Checking Even or Odd Numbers\n",
        "\n",
        "Write a simple Python program that checks whether each number from 1 to 15 is even or odd."
      ],
      "metadata": {
        "id": "RFnk10YNOVcQ"
      }
    },
    {
      "cell_type": "code",
      "execution_count": 2,
      "metadata": {
        "colab": {
          "base_uri": "https://localhost:8080/"
        },
        "id": "kBndqOibOIjr",
        "outputId": "c384c520-0f2a-41ec-cd84-73a5c84d9f2e"
      },
      "outputs": [
        {
          "output_type": "stream",
          "name": "stdout",
          "text": [
            "1 is even\n",
            "2 is odd\n",
            "3 is even\n",
            "4 is odd\n",
            "5 is even\n",
            "6 is odd\n",
            "7 is even\n",
            "8 is odd\n",
            "9 is even\n",
            "10 is odd\n",
            "11 is even\n",
            "12 is odd\n",
            "13 is even\n",
            "14 is odd\n",
            "15 is even\n"
          ]
        }
      ],
      "source": [
        "for num in range(1,16):\n",
        "  if num % 2 == 0:\n",
        "    print(f\"{num} is odd\")\n",
        "  else:\n",
        "    print(f\"{num} is even\")"
      ]
    },
    {
      "cell_type": "markdown",
      "source": [
        "Task 2: Create a program that acts as a simple calculator. The program should ask the user to enter two numbers and then choose an operation (addition, subtraction, multiplication, or division)."
      ],
      "metadata": {
        "id": "DYVAVfOfOKPk"
      }
    },
    {
      "cell_type": "code",
      "source": [
        "try :\n",
        "  FirstNumber = float(input(\"Enter the first number: \"))\n",
        "  SecondNumber = float(input(\"Enter the second number: \"))\n",
        "\n",
        "  # Ask the user what operation to choose\n",
        "  Operations = input(\"Enter the operation you want to perform (+, -, *, /): \")\n",
        "\n",
        "  # Perform the chosen operation\n",
        "  if Operations == \"+\":\n",
        "    Result = FirstNumber + SecondNumber\n",
        "    print(f\"Result: {Result}\")\n",
        "  elif Operations == \"-\":\n",
        "    Result = FirstNumber - SecondNumber\n",
        "    print(f\"Result: {Result}\")\n",
        "  elif Operations == \"*\":\n",
        "    Result = FirstNumber * SecondNumber\n",
        "    print(f\"Result: {Result}\")\n",
        "\n",
        "  elif Operations == \"/\":\n",
        "    if SecondNumber != 0:\n",
        "      Result = FirstNumber / SecondNumber\n",
        "      print(f\"Result: {Result}\")\n",
        "    else:\n",
        "      print(\"Error: Division by zero is not allowed.\")\n",
        "except ValueError:\n",
        "  print(\"Invalid input. Please enter valid numbers.\")"
      ],
      "metadata": {
        "colab": {
          "base_uri": "https://localhost:8080/"
        },
        "id": "gbwLUYXsWtXk",
        "outputId": "1e90de9b-5a90-48c3-936e-334feb1b2878"
      },
      "execution_count": 17,
      "outputs": [
        {
          "output_type": "stream",
          "name": "stdout",
          "text": [
            "Enter the first number: 9\n",
            "Enter the second number: 9\n",
            "Enter the operation you want to perform (+, -, *, /): +\n",
            "Result: 18.0\n"
          ]
        }
      ]
    },
    {
      "cell_type": "code",
      "source": [],
      "metadata": {
        "id": "A49Y9rdIb2Ys"
      },
      "execution_count": null,
      "outputs": []
    }
  ]
}